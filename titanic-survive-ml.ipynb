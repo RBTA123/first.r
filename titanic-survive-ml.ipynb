{
 "cells": [
  {
   "cell_type": "code",
   "execution_count": 1,
   "id": "169a7167",
   "metadata": {
    "_cell_guid": "b1076dfc-b9ad-4769-8c92-a6c4dae69d19",
    "_uuid": "8f2839f25d086af736a60e9eeb907d3b93b6e0e5",
    "execution": {
     "iopub.execute_input": "2022-04-08T07:23:38.548662Z",
     "iopub.status.busy": "2022-04-08T07:23:38.545801Z",
     "iopub.status.idle": "2022-04-08T07:23:39.533799Z",
     "shell.execute_reply": "2022-04-08T07:23:39.532887Z",
     "shell.execute_reply.started": "2022-04-08T06:30:52.310790Z"
    },
    "papermill": {
     "duration": 1.032956,
     "end_time": "2022-04-08T07:23:39.534016",
     "exception": false,
     "start_time": "2022-04-08T07:23:38.501060",
     "status": "completed"
    },
    "tags": []
   },
   "outputs": [
    {
     "name": "stdout",
     "output_type": "stream",
     "text": [
      "['train.csv', 'test.csv', 'gender_submission.csv']\n"
     ]
    }
   ],
   "source": [
    "# This Python 3 environment comes with many helpful analytics libraries installed\n",
    "# It is defined by the kaggle/python Docker image: https://github.com/kaggle/docker-python\n",
    "# For example, here's several helpful packages to load\n",
    "\n",
    "import numpy as np # linear algebra\n",
    "import pandas as pd # data processing, CSV file I/O (e.g. pd.read_csv)\n",
    "import seaborn as sns\n",
    "import matplotlib.pyplot as plt\n",
    "import warnings\n",
    "warnings.filterwarnings('ignore')\n",
    "import os\n",
    "print(os.listdir(\"../input/titanic\"))"
   ]
  },
  {
   "cell_type": "code",
   "execution_count": 2,
   "id": "2fa3a06f",
   "metadata": {
    "execution": {
     "iopub.execute_input": "2022-04-08T07:23:39.601568Z",
     "iopub.status.busy": "2022-04-08T07:23:39.600950Z",
     "iopub.status.idle": "2022-04-08T07:23:39.630647Z",
     "shell.execute_reply": "2022-04-08T07:23:39.631218Z",
     "shell.execute_reply.started": "2022-04-08T07:19:29.646915Z"
    },
    "papermill": {
     "duration": 0.064305,
     "end_time": "2022-04-08T07:23:39.631421",
     "exception": false,
     "start_time": "2022-04-08T07:23:39.567116",
     "status": "completed"
    },
    "tags": []
   },
   "outputs": [],
   "source": [
    "train=pd.read_csv(\"../input/titanic/train.csv\")\n",
    "test=pd.read_csv(\"../input/titanic/test.csv\")\n",
    "submission=pd.read_csv(\"../input/titanic/gender_submission.csv\")"
   ]
  },
  {
   "cell_type": "code",
   "execution_count": 3,
   "id": "8048e3d1",
   "metadata": {
    "execution": {
     "iopub.execute_input": "2022-04-08T07:23:39.697911Z",
     "iopub.status.busy": "2022-04-08T07:23:39.697309Z",
     "iopub.status.idle": "2022-04-08T07:23:39.719026Z",
     "shell.execute_reply": "2022-04-08T07:23:39.719518Z",
     "shell.execute_reply.started": "2022-04-08T07:19:30.459503Z"
    },
    "papermill": {
     "duration": 0.055742,
     "end_time": "2022-04-08T07:23:39.719681",
     "exception": false,
     "start_time": "2022-04-08T07:23:39.663939",
     "status": "completed"
    },
    "tags": []
   },
   "outputs": [
    {
     "data": {
      "text/html": [
       "<div>\n",
       "<style scoped>\n",
       "    .dataframe tbody tr th:only-of-type {\n",
       "        vertical-align: middle;\n",
       "    }\n",
       "\n",
       "    .dataframe tbody tr th {\n",
       "        vertical-align: top;\n",
       "    }\n",
       "\n",
       "    .dataframe thead th {\n",
       "        text-align: right;\n",
       "    }\n",
       "</style>\n",
       "<table border=\"1\" class=\"dataframe\">\n",
       "  <thead>\n",
       "    <tr style=\"text-align: right;\">\n",
       "      <th></th>\n",
       "      <th>PassengerId</th>\n",
       "      <th>Survived</th>\n",
       "      <th>Pclass</th>\n",
       "      <th>Name</th>\n",
       "      <th>Sex</th>\n",
       "      <th>Age</th>\n",
       "      <th>SibSp</th>\n",
       "      <th>Parch</th>\n",
       "      <th>Ticket</th>\n",
       "      <th>Fare</th>\n",
       "      <th>Cabin</th>\n",
       "      <th>Embarked</th>\n",
       "    </tr>\n",
       "  </thead>\n",
       "  <tbody>\n",
       "    <tr>\n",
       "      <th>0</th>\n",
       "      <td>1</td>\n",
       "      <td>0</td>\n",
       "      <td>3</td>\n",
       "      <td>Braund, Mr. Owen Harris</td>\n",
       "      <td>male</td>\n",
       "      <td>22.0</td>\n",
       "      <td>1</td>\n",
       "      <td>0</td>\n",
       "      <td>A/5 21171</td>\n",
       "      <td>7.2500</td>\n",
       "      <td>NaN</td>\n",
       "      <td>S</td>\n",
       "    </tr>\n",
       "    <tr>\n",
       "      <th>1</th>\n",
       "      <td>2</td>\n",
       "      <td>1</td>\n",
       "      <td>1</td>\n",
       "      <td>Cumings, Mrs. John Bradley (Florence Briggs Th...</td>\n",
       "      <td>female</td>\n",
       "      <td>38.0</td>\n",
       "      <td>1</td>\n",
       "      <td>0</td>\n",
       "      <td>PC 17599</td>\n",
       "      <td>71.2833</td>\n",
       "      <td>C85</td>\n",
       "      <td>C</td>\n",
       "    </tr>\n",
       "    <tr>\n",
       "      <th>2</th>\n",
       "      <td>3</td>\n",
       "      <td>1</td>\n",
       "      <td>3</td>\n",
       "      <td>Heikkinen, Miss. Laina</td>\n",
       "      <td>female</td>\n",
       "      <td>26.0</td>\n",
       "      <td>0</td>\n",
       "      <td>0</td>\n",
       "      <td>STON/O2. 3101282</td>\n",
       "      <td>7.9250</td>\n",
       "      <td>NaN</td>\n",
       "      <td>S</td>\n",
       "    </tr>\n",
       "    <tr>\n",
       "      <th>3</th>\n",
       "      <td>4</td>\n",
       "      <td>1</td>\n",
       "      <td>1</td>\n",
       "      <td>Futrelle, Mrs. Jacques Heath (Lily May Peel)</td>\n",
       "      <td>female</td>\n",
       "      <td>35.0</td>\n",
       "      <td>1</td>\n",
       "      <td>0</td>\n",
       "      <td>113803</td>\n",
       "      <td>53.1000</td>\n",
       "      <td>C123</td>\n",
       "      <td>S</td>\n",
       "    </tr>\n",
       "    <tr>\n",
       "      <th>4</th>\n",
       "      <td>5</td>\n",
       "      <td>0</td>\n",
       "      <td>3</td>\n",
       "      <td>Allen, Mr. William Henry</td>\n",
       "      <td>male</td>\n",
       "      <td>35.0</td>\n",
       "      <td>0</td>\n",
       "      <td>0</td>\n",
       "      <td>373450</td>\n",
       "      <td>8.0500</td>\n",
       "      <td>NaN</td>\n",
       "      <td>S</td>\n",
       "    </tr>\n",
       "  </tbody>\n",
       "</table>\n",
       "</div>"
      ],
      "text/plain": [
       "   PassengerId  Survived  Pclass  \\\n",
       "0            1         0       3   \n",
       "1            2         1       1   \n",
       "2            3         1       3   \n",
       "3            4         1       1   \n",
       "4            5         0       3   \n",
       "\n",
       "                                                Name     Sex   Age  SibSp  \\\n",
       "0                            Braund, Mr. Owen Harris    male  22.0      1   \n",
       "1  Cumings, Mrs. John Bradley (Florence Briggs Th...  female  38.0      1   \n",
       "2                             Heikkinen, Miss. Laina  female  26.0      0   \n",
       "3       Futrelle, Mrs. Jacques Heath (Lily May Peel)  female  35.0      1   \n",
       "4                           Allen, Mr. William Henry    male  35.0      0   \n",
       "\n",
       "   Parch            Ticket     Fare Cabin Embarked  \n",
       "0      0         A/5 21171   7.2500   NaN        S  \n",
       "1      0          PC 17599  71.2833   C85        C  \n",
       "2      0  STON/O2. 3101282   7.9250   NaN        S  \n",
       "3      0            113803  53.1000  C123        S  \n",
       "4      0            373450   8.0500   NaN        S  "
      ]
     },
     "execution_count": 3,
     "metadata": {},
     "output_type": "execute_result"
    }
   ],
   "source": [
    "train.head()"
   ]
  },
  {
   "cell_type": "code",
   "execution_count": 4,
   "id": "5b37b88b",
   "metadata": {
    "execution": {
     "iopub.execute_input": "2022-04-08T07:23:39.786518Z",
     "iopub.status.busy": "2022-04-08T07:23:39.785882Z",
     "iopub.status.idle": "2022-04-08T07:23:39.799480Z",
     "shell.execute_reply": "2022-04-08T07:23:39.800063Z",
     "shell.execute_reply.started": "2022-04-08T07:19:31.250103Z"
    },
    "papermill": {
     "duration": 0.04868,
     "end_time": "2022-04-08T07:23:39.800226",
     "exception": false,
     "start_time": "2022-04-08T07:23:39.751546",
     "status": "completed"
    },
    "tags": []
   },
   "outputs": [
    {
     "data": {
      "text/html": [
       "<div>\n",
       "<style scoped>\n",
       "    .dataframe tbody tr th:only-of-type {\n",
       "        vertical-align: middle;\n",
       "    }\n",
       "\n",
       "    .dataframe tbody tr th {\n",
       "        vertical-align: top;\n",
       "    }\n",
       "\n",
       "    .dataframe thead th {\n",
       "        text-align: right;\n",
       "    }\n",
       "</style>\n",
       "<table border=\"1\" class=\"dataframe\">\n",
       "  <thead>\n",
       "    <tr style=\"text-align: right;\">\n",
       "      <th></th>\n",
       "      <th>PassengerId</th>\n",
       "      <th>Pclass</th>\n",
       "      <th>Name</th>\n",
       "      <th>Sex</th>\n",
       "      <th>Age</th>\n",
       "      <th>SibSp</th>\n",
       "      <th>Parch</th>\n",
       "      <th>Ticket</th>\n",
       "      <th>Fare</th>\n",
       "      <th>Cabin</th>\n",
       "      <th>Embarked</th>\n",
       "    </tr>\n",
       "  </thead>\n",
       "  <tbody>\n",
       "    <tr>\n",
       "      <th>0</th>\n",
       "      <td>892</td>\n",
       "      <td>3</td>\n",
       "      <td>Kelly, Mr. James</td>\n",
       "      <td>male</td>\n",
       "      <td>34.5</td>\n",
       "      <td>0</td>\n",
       "      <td>0</td>\n",
       "      <td>330911</td>\n",
       "      <td>7.8292</td>\n",
       "      <td>NaN</td>\n",
       "      <td>Q</td>\n",
       "    </tr>\n",
       "    <tr>\n",
       "      <th>1</th>\n",
       "      <td>893</td>\n",
       "      <td>3</td>\n",
       "      <td>Wilkes, Mrs. James (Ellen Needs)</td>\n",
       "      <td>female</td>\n",
       "      <td>47.0</td>\n",
       "      <td>1</td>\n",
       "      <td>0</td>\n",
       "      <td>363272</td>\n",
       "      <td>7.0000</td>\n",
       "      <td>NaN</td>\n",
       "      <td>S</td>\n",
       "    </tr>\n",
       "    <tr>\n",
       "      <th>2</th>\n",
       "      <td>894</td>\n",
       "      <td>2</td>\n",
       "      <td>Myles, Mr. Thomas Francis</td>\n",
       "      <td>male</td>\n",
       "      <td>62.0</td>\n",
       "      <td>0</td>\n",
       "      <td>0</td>\n",
       "      <td>240276</td>\n",
       "      <td>9.6875</td>\n",
       "      <td>NaN</td>\n",
       "      <td>Q</td>\n",
       "    </tr>\n",
       "    <tr>\n",
       "      <th>3</th>\n",
       "      <td>895</td>\n",
       "      <td>3</td>\n",
       "      <td>Wirz, Mr. Albert</td>\n",
       "      <td>male</td>\n",
       "      <td>27.0</td>\n",
       "      <td>0</td>\n",
       "      <td>0</td>\n",
       "      <td>315154</td>\n",
       "      <td>8.6625</td>\n",
       "      <td>NaN</td>\n",
       "      <td>S</td>\n",
       "    </tr>\n",
       "    <tr>\n",
       "      <th>4</th>\n",
       "      <td>896</td>\n",
       "      <td>3</td>\n",
       "      <td>Hirvonen, Mrs. Alexander (Helga E Lindqvist)</td>\n",
       "      <td>female</td>\n",
       "      <td>22.0</td>\n",
       "      <td>1</td>\n",
       "      <td>1</td>\n",
       "      <td>3101298</td>\n",
       "      <td>12.2875</td>\n",
       "      <td>NaN</td>\n",
       "      <td>S</td>\n",
       "    </tr>\n",
       "  </tbody>\n",
       "</table>\n",
       "</div>"
      ],
      "text/plain": [
       "   PassengerId  Pclass                                          Name     Sex  \\\n",
       "0          892       3                              Kelly, Mr. James    male   \n",
       "1          893       3              Wilkes, Mrs. James (Ellen Needs)  female   \n",
       "2          894       2                     Myles, Mr. Thomas Francis    male   \n",
       "3          895       3                              Wirz, Mr. Albert    male   \n",
       "4          896       3  Hirvonen, Mrs. Alexander (Helga E Lindqvist)  female   \n",
       "\n",
       "    Age  SibSp  Parch   Ticket     Fare Cabin Embarked  \n",
       "0  34.5      0      0   330911   7.8292   NaN        Q  \n",
       "1  47.0      1      0   363272   7.0000   NaN        S  \n",
       "2  62.0      0      0   240276   9.6875   NaN        Q  \n",
       "3  27.0      0      0   315154   8.6625   NaN        S  \n",
       "4  22.0      1      1  3101298  12.2875   NaN        S  "
      ]
     },
     "execution_count": 4,
     "metadata": {},
     "output_type": "execute_result"
    }
   ],
   "source": [
    "test.head()"
   ]
  },
  {
   "cell_type": "code",
   "execution_count": 5,
   "id": "126a1aa0",
   "metadata": {
    "execution": {
     "iopub.execute_input": "2022-04-08T07:23:39.874529Z",
     "iopub.status.busy": "2022-04-08T07:23:39.873872Z",
     "iopub.status.idle": "2022-04-08T07:23:39.878672Z",
     "shell.execute_reply": "2022-04-08T07:23:39.879161Z",
     "shell.execute_reply.started": "2022-04-08T07:19:31.904197Z"
    },
    "papermill": {
     "duration": 0.046964,
     "end_time": "2022-04-08T07:23:39.879322",
     "exception": false,
     "start_time": "2022-04-08T07:23:39.832358",
     "status": "completed"
    },
    "tags": []
   },
   "outputs": [
    {
     "data": {
      "text/plain": [
       "0    549\n",
       "1    342\n",
       "Name: Survived, dtype: int64"
      ]
     },
     "execution_count": 5,
     "metadata": {},
     "output_type": "execute_result"
    }
   ],
   "source": [
    "train.Survived.value_counts()"
   ]
  },
  {
   "cell_type": "code",
   "execution_count": 6,
   "id": "def8b5fe",
   "metadata": {
    "execution": {
     "iopub.execute_input": "2022-04-08T07:23:39.947743Z",
     "iopub.status.busy": "2022-04-08T07:23:39.947130Z",
     "iopub.status.idle": "2022-04-08T07:23:39.961106Z",
     "shell.execute_reply": "2022-04-08T07:23:39.961627Z",
     "shell.execute_reply.started": "2022-04-08T07:19:32.750417Z"
    },
    "papermill": {
     "duration": 0.049803,
     "end_time": "2022-04-08T07:23:39.961789",
     "exception": false,
     "start_time": "2022-04-08T07:23:39.911986",
     "status": "completed"
    },
    "tags": []
   },
   "outputs": [
    {
     "data": {
      "text/plain": [
       "Survived  Pclass\n",
       "0         1          80\n",
       "          2          97\n",
       "          3         372\n",
       "1         1         136\n",
       "          2          87\n",
       "          3         119\n",
       "Name: PassengerId, dtype: int64"
      ]
     },
     "execution_count": 6,
     "metadata": {},
     "output_type": "execute_result"
    }
   ],
   "source": [
    "train.groupby(by=['Survived','Pclass']).count()['PassengerId']"
   ]
  },
  {
   "cell_type": "code",
   "execution_count": 7,
   "id": "21ab1e59",
   "metadata": {
    "execution": {
     "iopub.execute_input": "2022-04-08T07:23:40.032236Z",
     "iopub.status.busy": "2022-04-08T07:23:40.031613Z",
     "iopub.status.idle": "2022-04-08T07:23:40.042577Z",
     "shell.execute_reply": "2022-04-08T07:23:40.043114Z",
     "shell.execute_reply.started": "2022-04-08T07:19:33.485406Z"
    },
    "papermill": {
     "duration": 0.047512,
     "end_time": "2022-04-08T07:23:40.043284",
     "exception": false,
     "start_time": "2022-04-08T07:23:39.995772",
     "status": "completed"
    },
    "tags": []
   },
   "outputs": [
    {
     "data": {
      "text/plain": [
       "Survived  Sex     Pclass\n",
       "0         female  1           3\n",
       "                  2           6\n",
       "                  3          72\n",
       "          male    1          77\n",
       "                  2          91\n",
       "                  3         300\n",
       "1         female  1          91\n",
       "                  2          70\n",
       "                  3          72\n",
       "          male    1          45\n",
       "                  2          17\n",
       "                  3          47\n",
       "Name: PassengerId, dtype: int64"
      ]
     },
     "execution_count": 7,
     "metadata": {},
     "output_type": "execute_result"
    }
   ],
   "source": [
    "train.groupby(by=['Survived','Sex','Pclass']).count()['PassengerId']"
   ]
  },
  {
   "cell_type": "code",
   "execution_count": 8,
   "id": "cd31cb9c",
   "metadata": {
    "execution": {
     "iopub.execute_input": "2022-04-08T07:23:40.115672Z",
     "iopub.status.busy": "2022-04-08T07:23:40.115036Z",
     "iopub.status.idle": "2022-04-08T07:23:40.122715Z",
     "shell.execute_reply": "2022-04-08T07:23:40.123161Z",
     "shell.execute_reply.started": "2022-04-08T07:19:34.442530Z"
    },
    "papermill": {
     "duration": 0.04462,
     "end_time": "2022-04-08T07:23:40.123343",
     "exception": false,
     "start_time": "2022-04-08T07:23:40.078723",
     "status": "completed"
    },
    "tags": []
   },
   "outputs": [],
   "source": [
    "def make_cat(x):\n",
    "    if x=='male':\n",
    "        return 1\n",
    "    else:\n",
    "        return 0\n",
    "train['sex_cat']=train['Sex'].apply(lambda x: make_cat(x))    \n",
    "test['sex_cat']=test['Sex'].apply(lambda x: make_cat(x))    "
   ]
  },
  {
   "cell_type": "code",
   "execution_count": 9,
   "id": "53e7f88a",
   "metadata": {
    "execution": {
     "iopub.execute_input": "2022-04-08T07:23:40.194072Z",
     "iopub.status.busy": "2022-04-08T07:23:40.193468Z",
     "iopub.status.idle": "2022-04-08T07:23:40.199135Z",
     "shell.execute_reply": "2022-04-08T07:23:40.199725Z",
     "shell.execute_reply.started": "2022-04-08T07:19:35.430510Z"
    },
    "papermill": {
     "duration": 0.042447,
     "end_time": "2022-04-08T07:23:40.199881",
     "exception": false,
     "start_time": "2022-04-08T07:23:40.157434",
     "status": "completed"
    },
    "tags": []
   },
   "outputs": [
    {
     "name": "stdout",
     "output_type": "stream",
     "text": [
      "['S' 'C' 'Q' nan]\n",
      "['Q' 'S' 'C']\n"
     ]
    }
   ],
   "source": [
    "print(train.Embarked.unique())\n",
    "print(test.Embarked.unique())"
   ]
  },
  {
   "cell_type": "code",
   "execution_count": 10,
   "id": "1a291d48",
   "metadata": {
    "execution": {
     "iopub.execute_input": "2022-04-08T07:23:40.271803Z",
     "iopub.status.busy": "2022-04-08T07:23:40.271207Z",
     "iopub.status.idle": "2022-04-08T07:23:40.278822Z",
     "shell.execute_reply": "2022-04-08T07:23:40.279462Z",
     "shell.execute_reply.started": "2022-04-08T07:19:36.406930Z"
    },
    "papermill": {
     "duration": 0.045558,
     "end_time": "2022-04-08T07:23:40.279678",
     "exception": false,
     "start_time": "2022-04-08T07:23:40.234120",
     "status": "completed"
    },
    "tags": []
   },
   "outputs": [
    {
     "name": "stdout",
     "output_type": "stream",
     "text": [
      "S    644\n",
      "C    168\n",
      "Q     77\n",
      "Name: Embarked, dtype: int64\n",
      "S    270\n",
      "C    102\n",
      "Q     46\n",
      "Name: Embarked, dtype: int64\n"
     ]
    }
   ],
   "source": [
    "print(train.Embarked.value_counts())\n",
    "print(test.Embarked.value_counts())"
   ]
  },
  {
   "cell_type": "code",
   "execution_count": 11,
   "id": "6b1172a1",
   "metadata": {
    "execution": {
     "iopub.execute_input": "2022-04-08T07:23:40.352556Z",
     "iopub.status.busy": "2022-04-08T07:23:40.351954Z",
     "iopub.status.idle": "2022-04-08T07:23:40.359813Z",
     "shell.execute_reply": "2022-04-08T07:23:40.359239Z",
     "shell.execute_reply.started": "2022-04-08T07:19:37.736933Z"
    },
    "papermill": {
     "duration": 0.045237,
     "end_time": "2022-04-08T07:23:40.359951",
     "exception": false,
     "start_time": "2022-04-08T07:23:40.314714",
     "status": "completed"
    },
    "tags": []
   },
   "outputs": [
    {
     "data": {
      "text/plain": [
       "Int64Index([61, 829], dtype='int64')"
      ]
     },
     "execution_count": 11,
     "metadata": {},
     "output_type": "execute_result"
    }
   ],
   "source": [
    "train[train.Embarked.isnull()].index"
   ]
  },
  {
   "cell_type": "code",
   "execution_count": 12,
   "id": "ecb810c1",
   "metadata": {
    "execution": {
     "iopub.execute_input": "2022-04-08T07:23:40.435759Z",
     "iopub.status.busy": "2022-04-08T07:23:40.434902Z",
     "iopub.status.idle": "2022-04-08T07:23:40.437962Z",
     "shell.execute_reply": "2022-04-08T07:23:40.437390Z",
     "shell.execute_reply.started": "2022-04-08T07:19:38.541366Z"
    },
    "papermill": {
     "duration": 0.043114,
     "end_time": "2022-04-08T07:23:40.438099",
     "exception": false,
     "start_time": "2022-04-08T07:23:40.394985",
     "status": "completed"
    },
    "tags": []
   },
   "outputs": [],
   "source": [
    "train.at[61,'Embarked']='S'\n",
    "train.at[829,'Embarked']='S'"
   ]
  },
  {
   "cell_type": "code",
   "execution_count": 13,
   "id": "4e928f8b",
   "metadata": {
    "execution": {
     "iopub.execute_input": "2022-04-08T07:23:40.515658Z",
     "iopub.status.busy": "2022-04-08T07:23:40.514992Z",
     "iopub.status.idle": "2022-04-08T07:23:40.543253Z",
     "shell.execute_reply": "2022-04-08T07:23:40.543817Z",
     "shell.execute_reply.started": "2022-04-08T07:19:39.794778Z"
    },
    "papermill": {
     "duration": 0.070274,
     "end_time": "2022-04-08T07:23:40.543997",
     "exception": false,
     "start_time": "2022-04-08T07:23:40.473723",
     "status": "completed"
    },
    "tags": []
   },
   "outputs": [
    {
     "data": {
      "text/html": [
       "<div>\n",
       "<style scoped>\n",
       "    .dataframe tbody tr th:only-of-type {\n",
       "        vertical-align: middle;\n",
       "    }\n",
       "\n",
       "    .dataframe tbody tr th {\n",
       "        vertical-align: top;\n",
       "    }\n",
       "\n",
       "    .dataframe thead th {\n",
       "        text-align: right;\n",
       "    }\n",
       "</style>\n",
       "<table border=\"1\" class=\"dataframe\">\n",
       "  <thead>\n",
       "    <tr style=\"text-align: right;\">\n",
       "      <th></th>\n",
       "      <th>count</th>\n",
       "      <th>unique</th>\n",
       "      <th>top</th>\n",
       "      <th>freq</th>\n",
       "    </tr>\n",
       "  </thead>\n",
       "  <tbody>\n",
       "    <tr>\n",
       "      <th>Name</th>\n",
       "      <td>891</td>\n",
       "      <td>891</td>\n",
       "      <td>Braund, Mr. Owen Harris</td>\n",
       "      <td>1</td>\n",
       "    </tr>\n",
       "    <tr>\n",
       "      <th>Sex</th>\n",
       "      <td>891</td>\n",
       "      <td>2</td>\n",
       "      <td>male</td>\n",
       "      <td>577</td>\n",
       "    </tr>\n",
       "    <tr>\n",
       "      <th>Ticket</th>\n",
       "      <td>891</td>\n",
       "      <td>681</td>\n",
       "      <td>347082</td>\n",
       "      <td>7</td>\n",
       "    </tr>\n",
       "    <tr>\n",
       "      <th>Cabin</th>\n",
       "      <td>204</td>\n",
       "      <td>147</td>\n",
       "      <td>B96 B98</td>\n",
       "      <td>4</td>\n",
       "    </tr>\n",
       "    <tr>\n",
       "      <th>Embarked</th>\n",
       "      <td>891</td>\n",
       "      <td>3</td>\n",
       "      <td>S</td>\n",
       "      <td>646</td>\n",
       "    </tr>\n",
       "  </tbody>\n",
       "</table>\n",
       "</div>"
      ],
      "text/plain": [
       "         count unique                      top freq\n",
       "Name       891    891  Braund, Mr. Owen Harris    1\n",
       "Sex        891      2                     male  577\n",
       "Ticket     891    681                   347082    7\n",
       "Cabin      204    147                  B96 B98    4\n",
       "Embarked   891      3                        S  646"
      ]
     },
     "execution_count": 13,
     "metadata": {},
     "output_type": "execute_result"
    }
   ],
   "source": [
    "train.describe(include='O').T"
   ]
  },
  {
   "cell_type": "code",
   "execution_count": 14,
   "id": "7620bdf4",
   "metadata": {
    "execution": {
     "iopub.execute_input": "2022-04-08T07:23:40.628877Z",
     "iopub.status.busy": "2022-04-08T07:23:40.628209Z",
     "iopub.status.idle": "2022-04-08T07:23:40.659676Z",
     "shell.execute_reply": "2022-04-08T07:23:40.660449Z",
     "shell.execute_reply.started": "2022-04-08T07:19:40.421846Z"
    },
    "papermill": {
     "duration": 0.074705,
     "end_time": "2022-04-08T07:23:40.660623",
     "exception": false,
     "start_time": "2022-04-08T07:23:40.585918",
     "status": "completed"
    },
    "tags": []
   },
   "outputs": [
    {
     "data": {
      "text/html": [
       "<div>\n",
       "<style scoped>\n",
       "    .dataframe tbody tr th:only-of-type {\n",
       "        vertical-align: middle;\n",
       "    }\n",
       "\n",
       "    .dataframe tbody tr th {\n",
       "        vertical-align: top;\n",
       "    }\n",
       "\n",
       "    .dataframe thead th {\n",
       "        text-align: right;\n",
       "    }\n",
       "</style>\n",
       "<table border=\"1\" class=\"dataframe\">\n",
       "  <thead>\n",
       "    <tr style=\"text-align: right;\">\n",
       "      <th></th>\n",
       "      <th>count</th>\n",
       "      <th>mean</th>\n",
       "      <th>std</th>\n",
       "      <th>min</th>\n",
       "      <th>25%</th>\n",
       "      <th>50%</th>\n",
       "      <th>75%</th>\n",
       "      <th>max</th>\n",
       "    </tr>\n",
       "  </thead>\n",
       "  <tbody>\n",
       "    <tr>\n",
       "      <th>PassengerId</th>\n",
       "      <td>891.0</td>\n",
       "      <td>446.000000</td>\n",
       "      <td>257.353842</td>\n",
       "      <td>1.00</td>\n",
       "      <td>223.5000</td>\n",
       "      <td>446.0000</td>\n",
       "      <td>668.5</td>\n",
       "      <td>891.0000</td>\n",
       "    </tr>\n",
       "    <tr>\n",
       "      <th>Survived</th>\n",
       "      <td>891.0</td>\n",
       "      <td>0.383838</td>\n",
       "      <td>0.486592</td>\n",
       "      <td>0.00</td>\n",
       "      <td>0.0000</td>\n",
       "      <td>0.0000</td>\n",
       "      <td>1.0</td>\n",
       "      <td>1.0000</td>\n",
       "    </tr>\n",
       "    <tr>\n",
       "      <th>Pclass</th>\n",
       "      <td>891.0</td>\n",
       "      <td>2.308642</td>\n",
       "      <td>0.836071</td>\n",
       "      <td>1.00</td>\n",
       "      <td>2.0000</td>\n",
       "      <td>3.0000</td>\n",
       "      <td>3.0</td>\n",
       "      <td>3.0000</td>\n",
       "    </tr>\n",
       "    <tr>\n",
       "      <th>Age</th>\n",
       "      <td>714.0</td>\n",
       "      <td>29.699118</td>\n",
       "      <td>14.526497</td>\n",
       "      <td>0.42</td>\n",
       "      <td>20.1250</td>\n",
       "      <td>28.0000</td>\n",
       "      <td>38.0</td>\n",
       "      <td>80.0000</td>\n",
       "    </tr>\n",
       "    <tr>\n",
       "      <th>SibSp</th>\n",
       "      <td>891.0</td>\n",
       "      <td>0.523008</td>\n",
       "      <td>1.102743</td>\n",
       "      <td>0.00</td>\n",
       "      <td>0.0000</td>\n",
       "      <td>0.0000</td>\n",
       "      <td>1.0</td>\n",
       "      <td>8.0000</td>\n",
       "    </tr>\n",
       "    <tr>\n",
       "      <th>Parch</th>\n",
       "      <td>891.0</td>\n",
       "      <td>0.381594</td>\n",
       "      <td>0.806057</td>\n",
       "      <td>0.00</td>\n",
       "      <td>0.0000</td>\n",
       "      <td>0.0000</td>\n",
       "      <td>0.0</td>\n",
       "      <td>6.0000</td>\n",
       "    </tr>\n",
       "    <tr>\n",
       "      <th>Fare</th>\n",
       "      <td>891.0</td>\n",
       "      <td>32.204208</td>\n",
       "      <td>49.693429</td>\n",
       "      <td>0.00</td>\n",
       "      <td>7.9104</td>\n",
       "      <td>14.4542</td>\n",
       "      <td>31.0</td>\n",
       "      <td>512.3292</td>\n",
       "    </tr>\n",
       "    <tr>\n",
       "      <th>sex_cat</th>\n",
       "      <td>891.0</td>\n",
       "      <td>0.647587</td>\n",
       "      <td>0.477990</td>\n",
       "      <td>0.00</td>\n",
       "      <td>0.0000</td>\n",
       "      <td>1.0000</td>\n",
       "      <td>1.0</td>\n",
       "      <td>1.0000</td>\n",
       "    </tr>\n",
       "  </tbody>\n",
       "</table>\n",
       "</div>"
      ],
      "text/plain": [
       "             count        mean         std   min       25%       50%    75%  \\\n",
       "PassengerId  891.0  446.000000  257.353842  1.00  223.5000  446.0000  668.5   \n",
       "Survived     891.0    0.383838    0.486592  0.00    0.0000    0.0000    1.0   \n",
       "Pclass       891.0    2.308642    0.836071  1.00    2.0000    3.0000    3.0   \n",
       "Age          714.0   29.699118   14.526497  0.42   20.1250   28.0000   38.0   \n",
       "SibSp        891.0    0.523008    1.102743  0.00    0.0000    0.0000    1.0   \n",
       "Parch        891.0    0.381594    0.806057  0.00    0.0000    0.0000    0.0   \n",
       "Fare         891.0   32.204208   49.693429  0.00    7.9104   14.4542   31.0   \n",
       "sex_cat      891.0    0.647587    0.477990  0.00    0.0000    1.0000    1.0   \n",
       "\n",
       "                  max  \n",
       "PassengerId  891.0000  \n",
       "Survived       1.0000  \n",
       "Pclass         3.0000  \n",
       "Age           80.0000  \n",
       "SibSp          8.0000  \n",
       "Parch          6.0000  \n",
       "Fare         512.3292  \n",
       "sex_cat        1.0000  "
      ]
     },
     "execution_count": 14,
     "metadata": {},
     "output_type": "execute_result"
    }
   ],
   "source": [
    "train.describe().T"
   ]
  },
  {
   "cell_type": "code",
   "execution_count": 15,
   "id": "5e4d36df",
   "metadata": {
    "execution": {
     "iopub.execute_input": "2022-04-08T07:23:40.735441Z",
     "iopub.status.busy": "2022-04-08T07:23:40.734817Z",
     "iopub.status.idle": "2022-04-08T07:23:40.742361Z",
     "shell.execute_reply": "2022-04-08T07:23:40.741819Z",
     "shell.execute_reply.started": "2022-04-08T07:19:46.897969Z"
    },
    "papermill": {
     "duration": 0.045817,
     "end_time": "2022-04-08T07:23:40.742514",
     "exception": false,
     "start_time": "2022-04-08T07:23:40.696697",
     "status": "completed"
    },
    "tags": []
   },
   "outputs": [],
   "source": [
    "train.drop(['PassengerId','Sex','Name','Ticket','Cabin'],axis=1,inplace=True)\n",
    "test.drop(['PassengerId','Sex','Name','Ticket','Cabin'],axis=1,inplace=True)"
   ]
  },
  {
   "cell_type": "code",
   "execution_count": 16,
   "id": "d63141bf",
   "metadata": {
    "execution": {
     "iopub.execute_input": "2022-04-08T07:23:40.821956Z",
     "iopub.status.busy": "2022-04-08T07:23:40.821305Z",
     "iopub.status.idle": "2022-04-08T07:23:40.825931Z",
     "shell.execute_reply": "2022-04-08T07:23:40.826425Z",
     "shell.execute_reply.started": "2022-04-08T07:20:15.824840Z"
    },
    "papermill": {
     "duration": 0.048112,
     "end_time": "2022-04-08T07:23:40.826591",
     "exception": false,
     "start_time": "2022-04-08T07:23:40.778479",
     "status": "completed"
    },
    "tags": []
   },
   "outputs": [],
   "source": [
    "train['Age'].fillna(train['Age'].mode()[0], inplace=True)\n",
    "test['Age'].fillna(test['Age'].mode()[0], inplace=True)\n",
    "test['Fare'].fillna(test['Fare'].mode()[0], inplace=True)\n"
   ]
  },
  {
   "cell_type": "code",
   "execution_count": 17,
   "id": "b7077661",
   "metadata": {
    "execution": {
     "iopub.execute_input": "2022-04-08T07:23:40.914145Z",
     "iopub.status.busy": "2022-04-08T07:23:40.913435Z",
     "iopub.status.idle": "2022-04-08T07:23:40.916210Z",
     "shell.execute_reply": "2022-04-08T07:23:40.916813Z",
     "shell.execute_reply.started": "2022-04-08T07:20:17.959129Z"
    },
    "papermill": {
     "duration": 0.054087,
     "end_time": "2022-04-08T07:23:40.916994",
     "exception": false,
     "start_time": "2022-04-08T07:23:40.862907",
     "status": "completed"
    },
    "tags": []
   },
   "outputs": [
    {
     "data": {
      "text/html": [
       "<div>\n",
       "<style scoped>\n",
       "    .dataframe tbody tr th:only-of-type {\n",
       "        vertical-align: middle;\n",
       "    }\n",
       "\n",
       "    .dataframe tbody tr th {\n",
       "        vertical-align: top;\n",
       "    }\n",
       "\n",
       "    .dataframe thead th {\n",
       "        text-align: right;\n",
       "    }\n",
       "</style>\n",
       "<table border=\"1\" class=\"dataframe\">\n",
       "  <thead>\n",
       "    <tr style=\"text-align: right;\">\n",
       "      <th></th>\n",
       "      <th>count</th>\n",
       "      <th>unique</th>\n",
       "      <th>top</th>\n",
       "      <th>freq</th>\n",
       "    </tr>\n",
       "  </thead>\n",
       "  <tbody>\n",
       "    <tr>\n",
       "      <th>Embarked</th>\n",
       "      <td>891</td>\n",
       "      <td>3</td>\n",
       "      <td>S</td>\n",
       "      <td>646</td>\n",
       "    </tr>\n",
       "  </tbody>\n",
       "</table>\n",
       "</div>"
      ],
      "text/plain": [
       "         count unique top freq\n",
       "Embarked   891      3   S  646"
      ]
     },
     "execution_count": 17,
     "metadata": {},
     "output_type": "execute_result"
    }
   ],
   "source": [
    "train.describe(include='O').T"
   ]
  },
  {
   "cell_type": "code",
   "execution_count": 18,
   "id": "6a8e1ede",
   "metadata": {
    "execution": {
     "iopub.execute_input": "2022-04-08T07:23:41.007159Z",
     "iopub.status.busy": "2022-04-08T07:23:40.995642Z",
     "iopub.status.idle": "2022-04-08T07:23:41.010213Z",
     "shell.execute_reply": "2022-04-08T07:23:41.010768Z",
     "shell.execute_reply.started": "2022-04-08T07:20:19.175083Z"
    },
    "papermill": {
     "duration": 0.056991,
     "end_time": "2022-04-08T07:23:41.010961",
     "exception": false,
     "start_time": "2022-04-08T07:23:40.953970",
     "status": "completed"
    },
    "tags": []
   },
   "outputs": [
    {
     "data": {
      "text/html": [
       "<div>\n",
       "<style scoped>\n",
       "    .dataframe tbody tr th:only-of-type {\n",
       "        vertical-align: middle;\n",
       "    }\n",
       "\n",
       "    .dataframe tbody tr th {\n",
       "        vertical-align: top;\n",
       "    }\n",
       "\n",
       "    .dataframe thead th {\n",
       "        text-align: right;\n",
       "    }\n",
       "</style>\n",
       "<table border=\"1\" class=\"dataframe\">\n",
       "  <thead>\n",
       "    <tr style=\"text-align: right;\">\n",
       "      <th></th>\n",
       "      <th>count</th>\n",
       "      <th>unique</th>\n",
       "      <th>top</th>\n",
       "      <th>freq</th>\n",
       "    </tr>\n",
       "  </thead>\n",
       "  <tbody>\n",
       "    <tr>\n",
       "      <th>Embarked</th>\n",
       "      <td>418</td>\n",
       "      <td>3</td>\n",
       "      <td>S</td>\n",
       "      <td>270</td>\n",
       "    </tr>\n",
       "  </tbody>\n",
       "</table>\n",
       "</div>"
      ],
      "text/plain": [
       "         count unique top freq\n",
       "Embarked   418      3   S  270"
      ]
     },
     "execution_count": 18,
     "metadata": {},
     "output_type": "execute_result"
    }
   ],
   "source": [
    "test.describe(include='O').T"
   ]
  },
  {
   "cell_type": "code",
   "execution_count": 19,
   "id": "b4634154",
   "metadata": {
    "execution": {
     "iopub.execute_input": "2022-04-08T07:23:41.089880Z",
     "iopub.status.busy": "2022-04-08T07:23:41.088889Z",
     "iopub.status.idle": "2022-04-08T07:23:41.119299Z",
     "shell.execute_reply": "2022-04-08T07:23:41.119929Z",
     "shell.execute_reply.started": "2022-04-08T07:20:20.940784Z"
    },
    "papermill": {
     "duration": 0.071743,
     "end_time": "2022-04-08T07:23:41.120111",
     "exception": false,
     "start_time": "2022-04-08T07:23:41.048368",
     "status": "completed"
    },
    "tags": []
   },
   "outputs": [
    {
     "data": {
      "text/html": [
       "<div>\n",
       "<style scoped>\n",
       "    .dataframe tbody tr th:only-of-type {\n",
       "        vertical-align: middle;\n",
       "    }\n",
       "\n",
       "    .dataframe tbody tr th {\n",
       "        vertical-align: top;\n",
       "    }\n",
       "\n",
       "    .dataframe thead th {\n",
       "        text-align: right;\n",
       "    }\n",
       "</style>\n",
       "<table border=\"1\" class=\"dataframe\">\n",
       "  <thead>\n",
       "    <tr style=\"text-align: right;\">\n",
       "      <th></th>\n",
       "      <th>count</th>\n",
       "      <th>mean</th>\n",
       "      <th>std</th>\n",
       "      <th>min</th>\n",
       "      <th>25%</th>\n",
       "      <th>50%</th>\n",
       "      <th>75%</th>\n",
       "      <th>max</th>\n",
       "    </tr>\n",
       "  </thead>\n",
       "  <tbody>\n",
       "    <tr>\n",
       "      <th>Survived</th>\n",
       "      <td>891.0</td>\n",
       "      <td>0.383838</td>\n",
       "      <td>0.486592</td>\n",
       "      <td>0.00</td>\n",
       "      <td>0.0000</td>\n",
       "      <td>0.0000</td>\n",
       "      <td>1.0</td>\n",
       "      <td>1.0000</td>\n",
       "    </tr>\n",
       "    <tr>\n",
       "      <th>Pclass</th>\n",
       "      <td>891.0</td>\n",
       "      <td>2.308642</td>\n",
       "      <td>0.836071</td>\n",
       "      <td>1.00</td>\n",
       "      <td>2.0000</td>\n",
       "      <td>3.0000</td>\n",
       "      <td>3.0</td>\n",
       "      <td>3.0000</td>\n",
       "    </tr>\n",
       "    <tr>\n",
       "      <th>Age</th>\n",
       "      <td>891.0</td>\n",
       "      <td>28.566970</td>\n",
       "      <td>13.199572</td>\n",
       "      <td>0.42</td>\n",
       "      <td>22.0000</td>\n",
       "      <td>24.0000</td>\n",
       "      <td>35.0</td>\n",
       "      <td>80.0000</td>\n",
       "    </tr>\n",
       "    <tr>\n",
       "      <th>SibSp</th>\n",
       "      <td>891.0</td>\n",
       "      <td>0.523008</td>\n",
       "      <td>1.102743</td>\n",
       "      <td>0.00</td>\n",
       "      <td>0.0000</td>\n",
       "      <td>0.0000</td>\n",
       "      <td>1.0</td>\n",
       "      <td>8.0000</td>\n",
       "    </tr>\n",
       "    <tr>\n",
       "      <th>Parch</th>\n",
       "      <td>891.0</td>\n",
       "      <td>0.381594</td>\n",
       "      <td>0.806057</td>\n",
       "      <td>0.00</td>\n",
       "      <td>0.0000</td>\n",
       "      <td>0.0000</td>\n",
       "      <td>0.0</td>\n",
       "      <td>6.0000</td>\n",
       "    </tr>\n",
       "    <tr>\n",
       "      <th>Fare</th>\n",
       "      <td>891.0</td>\n",
       "      <td>32.204208</td>\n",
       "      <td>49.693429</td>\n",
       "      <td>0.00</td>\n",
       "      <td>7.9104</td>\n",
       "      <td>14.4542</td>\n",
       "      <td>31.0</td>\n",
       "      <td>512.3292</td>\n",
       "    </tr>\n",
       "    <tr>\n",
       "      <th>sex_cat</th>\n",
       "      <td>891.0</td>\n",
       "      <td>0.647587</td>\n",
       "      <td>0.477990</td>\n",
       "      <td>0.00</td>\n",
       "      <td>0.0000</td>\n",
       "      <td>1.0000</td>\n",
       "      <td>1.0</td>\n",
       "      <td>1.0000</td>\n",
       "    </tr>\n",
       "  </tbody>\n",
       "</table>\n",
       "</div>"
      ],
      "text/plain": [
       "          count       mean        std   min      25%      50%   75%       max\n",
       "Survived  891.0   0.383838   0.486592  0.00   0.0000   0.0000   1.0    1.0000\n",
       "Pclass    891.0   2.308642   0.836071  1.00   2.0000   3.0000   3.0    3.0000\n",
       "Age       891.0  28.566970  13.199572  0.42  22.0000  24.0000  35.0   80.0000\n",
       "SibSp     891.0   0.523008   1.102743  0.00   0.0000   0.0000   1.0    8.0000\n",
       "Parch     891.0   0.381594   0.806057  0.00   0.0000   0.0000   0.0    6.0000\n",
       "Fare      891.0  32.204208  49.693429  0.00   7.9104  14.4542  31.0  512.3292\n",
       "sex_cat   891.0   0.647587   0.477990  0.00   0.0000   1.0000   1.0    1.0000"
      ]
     },
     "execution_count": 19,
     "metadata": {},
     "output_type": "execute_result"
    }
   ],
   "source": [
    "train.describe().T"
   ]
  },
  {
   "cell_type": "code",
   "execution_count": 20,
   "id": "ad660225",
   "metadata": {
    "execution": {
     "iopub.execute_input": "2022-04-08T07:23:41.201345Z",
     "iopub.status.busy": "2022-04-08T07:23:41.200367Z",
     "iopub.status.idle": "2022-04-08T07:23:41.225489Z",
     "shell.execute_reply": "2022-04-08T07:23:41.226024Z",
     "shell.execute_reply.started": "2022-04-08T07:20:22.471526Z"
    },
    "papermill": {
     "duration": 0.068417,
     "end_time": "2022-04-08T07:23:41.226192",
     "exception": false,
     "start_time": "2022-04-08T07:23:41.157775",
     "status": "completed"
    },
    "tags": []
   },
   "outputs": [
    {
     "data": {
      "text/html": [
       "<div>\n",
       "<style scoped>\n",
       "    .dataframe tbody tr th:only-of-type {\n",
       "        vertical-align: middle;\n",
       "    }\n",
       "\n",
       "    .dataframe tbody tr th {\n",
       "        vertical-align: top;\n",
       "    }\n",
       "\n",
       "    .dataframe thead th {\n",
       "        text-align: right;\n",
       "    }\n",
       "</style>\n",
       "<table border=\"1\" class=\"dataframe\">\n",
       "  <thead>\n",
       "    <tr style=\"text-align: right;\">\n",
       "      <th></th>\n",
       "      <th>count</th>\n",
       "      <th>mean</th>\n",
       "      <th>std</th>\n",
       "      <th>min</th>\n",
       "      <th>25%</th>\n",
       "      <th>50%</th>\n",
       "      <th>75%</th>\n",
       "      <th>max</th>\n",
       "    </tr>\n",
       "  </thead>\n",
       "  <tbody>\n",
       "    <tr>\n",
       "      <th>Pclass</th>\n",
       "      <td>418.0</td>\n",
       "      <td>2.265550</td>\n",
       "      <td>0.841838</td>\n",
       "      <td>1.00</td>\n",
       "      <td>1.0000</td>\n",
       "      <td>3.0000</td>\n",
       "      <td>3.000000</td>\n",
       "      <td>3.0000</td>\n",
       "    </tr>\n",
       "    <tr>\n",
       "      <th>Age</th>\n",
       "      <td>418.0</td>\n",
       "      <td>28.364833</td>\n",
       "      <td>13.180116</td>\n",
       "      <td>0.17</td>\n",
       "      <td>21.0000</td>\n",
       "      <td>24.0000</td>\n",
       "      <td>35.750000</td>\n",
       "      <td>76.0000</td>\n",
       "    </tr>\n",
       "    <tr>\n",
       "      <th>SibSp</th>\n",
       "      <td>418.0</td>\n",
       "      <td>0.447368</td>\n",
       "      <td>0.896760</td>\n",
       "      <td>0.00</td>\n",
       "      <td>0.0000</td>\n",
       "      <td>0.0000</td>\n",
       "      <td>1.000000</td>\n",
       "      <td>8.0000</td>\n",
       "    </tr>\n",
       "    <tr>\n",
       "      <th>Parch</th>\n",
       "      <td>418.0</td>\n",
       "      <td>0.392344</td>\n",
       "      <td>0.981429</td>\n",
       "      <td>0.00</td>\n",
       "      <td>0.0000</td>\n",
       "      <td>0.0000</td>\n",
       "      <td>0.000000</td>\n",
       "      <td>9.0000</td>\n",
       "    </tr>\n",
       "    <tr>\n",
       "      <th>Fare</th>\n",
       "      <td>418.0</td>\n",
       "      <td>35.560497</td>\n",
       "      <td>55.857145</td>\n",
       "      <td>0.00</td>\n",
       "      <td>7.8958</td>\n",
       "      <td>14.4542</td>\n",
       "      <td>31.471875</td>\n",
       "      <td>512.3292</td>\n",
       "    </tr>\n",
       "    <tr>\n",
       "      <th>sex_cat</th>\n",
       "      <td>418.0</td>\n",
       "      <td>0.636364</td>\n",
       "      <td>0.481622</td>\n",
       "      <td>0.00</td>\n",
       "      <td>0.0000</td>\n",
       "      <td>1.0000</td>\n",
       "      <td>1.000000</td>\n",
       "      <td>1.0000</td>\n",
       "    </tr>\n",
       "  </tbody>\n",
       "</table>\n",
       "</div>"
      ],
      "text/plain": [
       "         count       mean        std   min      25%      50%        75%  \\\n",
       "Pclass   418.0   2.265550   0.841838  1.00   1.0000   3.0000   3.000000   \n",
       "Age      418.0  28.364833  13.180116  0.17  21.0000  24.0000  35.750000   \n",
       "SibSp    418.0   0.447368   0.896760  0.00   0.0000   0.0000   1.000000   \n",
       "Parch    418.0   0.392344   0.981429  0.00   0.0000   0.0000   0.000000   \n",
       "Fare     418.0  35.560497  55.857145  0.00   7.8958  14.4542  31.471875   \n",
       "sex_cat  418.0   0.636364   0.481622  0.00   0.0000   1.0000   1.000000   \n",
       "\n",
       "              max  \n",
       "Pclass     3.0000  \n",
       "Age       76.0000  \n",
       "SibSp      8.0000  \n",
       "Parch      9.0000  \n",
       "Fare     512.3292  \n",
       "sex_cat    1.0000  "
      ]
     },
     "execution_count": 20,
     "metadata": {},
     "output_type": "execute_result"
    }
   ],
   "source": [
    "test.describe().T"
   ]
  },
  {
   "cell_type": "code",
   "execution_count": 21,
   "id": "14bf4733",
   "metadata": {
    "execution": {
     "iopub.execute_input": "2022-04-08T07:23:41.306024Z",
     "iopub.status.busy": "2022-04-08T07:23:41.305054Z",
     "iopub.status.idle": "2022-04-08T07:23:41.316073Z",
     "shell.execute_reply": "2022-04-08T07:23:41.316641Z",
     "shell.execute_reply.started": "2022-04-08T07:20:28.310511Z"
    },
    "papermill": {
     "duration": 0.052744,
     "end_time": "2022-04-08T07:23:41.316821",
     "exception": false,
     "start_time": "2022-04-08T07:23:41.264077",
     "status": "completed"
    },
    "tags": []
   },
   "outputs": [],
   "source": [
    "def make_embark_cat(x):\n",
    "    if x=='S':\n",
    "        return 0\n",
    "    elif x=='C':\n",
    "        return 1\n",
    "    else:\n",
    "        return 2\n",
    "train['Embarked_cat']=train['Embarked'].apply(lambda x: make_embark_cat(x))    \n",
    "train.drop('Embarked',axis=1,inplace=True)\n",
    "test['Embarked_cat']=test['Embarked'].apply(lambda x: make_embark_cat(x))    \n",
    "test.drop('Embarked',axis=1,inplace=True)\n",
    "    "
   ]
  },
  {
   "cell_type": "code",
   "execution_count": 22,
   "id": "cbb5aa14",
   "metadata": {
    "execution": {
     "iopub.execute_input": "2022-04-08T07:23:41.396812Z",
     "iopub.status.busy": "2022-04-08T07:23:41.395814Z",
     "iopub.status.idle": "2022-04-08T07:23:41.400843Z",
     "shell.execute_reply": "2022-04-08T07:23:41.401429Z",
     "shell.execute_reply.started": "2022-04-08T07:20:29.819929Z"
    },
    "papermill": {
     "duration": 0.046953,
     "end_time": "2022-04-08T07:23:41.401593",
     "exception": false,
     "start_time": "2022-04-08T07:23:41.354640",
     "status": "completed"
    },
    "tags": []
   },
   "outputs": [],
   "source": [
    "y=train['Survived']\n",
    "X=train.drop(['Survived'],axis=1)"
   ]
  },
  {
   "cell_type": "code",
   "execution_count": 23,
   "id": "c2748603",
   "metadata": {
    "execution": {
     "iopub.execute_input": "2022-04-08T07:23:41.481630Z",
     "iopub.status.busy": "2022-04-08T07:23:41.480672Z",
     "iopub.status.idle": "2022-04-08T07:23:41.800632Z",
     "shell.execute_reply": "2022-04-08T07:23:41.801153Z",
     "shell.execute_reply.started": "2022-04-08T07:20:44.943464Z"
    },
    "papermill": {
     "duration": 0.361882,
     "end_time": "2022-04-08T07:23:41.801364",
     "exception": false,
     "start_time": "2022-04-08T07:23:41.439482",
     "status": "completed"
    },
    "tags": []
   },
   "outputs": [
    {
     "name": "stdout",
     "output_type": "stream",
     "text": [
      "Accuracy Score: 0.7597765363128491\n"
     ]
    }
   ],
   "source": [
    "from sklearn.model_selection import train_test_split\n",
    "from sklearn.preprocessing import StandardScaler\n",
    "from sklearn.tree import DecisionTreeClassifier\n",
    "from sklearn.metrics import confusion_matrix\n",
    "from sklearn import metrics\n",
    "\n",
    "X_train, X_test, y_train, y_test = train_test_split(X, y, test_size=0.20, random_state=42)\n",
    "# sc_X = StandardScaler()\n",
    "# X_train = sc_X.fit_transform(X_train)\n",
    "# X_test = sc_X.transform(X_test)\n",
    "classifier = DecisionTreeClassifier(random_state=0)\n",
    "classifier = classifier.fit(X_train, y_train)\n",
    "y_pred = classifier.predict(X_test)\n",
    "print('Accuracy Score:', metrics.accuracy_score(y_test,y_pred))"
   ]
  },
  {
   "cell_type": "code",
   "execution_count": 24,
   "id": "b651df75",
   "metadata": {
    "execution": {
     "iopub.execute_input": "2022-04-08T07:23:41.885173Z",
     "iopub.status.busy": "2022-04-08T07:23:41.884524Z",
     "iopub.status.idle": "2022-04-08T07:23:42.152427Z",
     "shell.execute_reply": "2022-04-08T07:23:42.152919Z",
     "shell.execute_reply.started": "2022-04-08T07:20:50.993783Z"
    },
    "papermill": {
     "duration": 0.313031,
     "end_time": "2022-04-08T07:23:42.153097",
     "exception": false,
     "start_time": "2022-04-08T07:23:41.840066",
     "status": "completed"
    },
    "tags": []
   },
   "outputs": [
    {
     "name": "stdout",
     "output_type": "stream",
     "text": [
      "Accuracy Score: 0.8435754189944135\n"
     ]
    }
   ],
   "source": [
    "from sklearn.ensemble import RandomForestClassifier\n",
    "clf_2 = RandomForestClassifier(max_depth=10, random_state=0)\n",
    "clf_2.fit(X_train, y_train)\n",
    "y_pred = clf_2.predict(X_test)\n",
    "print('Accuracy Score:', metrics.accuracy_score(y_test,y_pred))"
   ]
  },
  {
   "cell_type": "code",
   "execution_count": 25,
   "id": "57a6fddc",
   "metadata": {
    "execution": {
     "iopub.execute_input": "2022-04-08T07:23:42.235130Z",
     "iopub.status.busy": "2022-04-08T07:23:42.234510Z",
     "iopub.status.idle": "2022-04-08T07:23:42.247747Z",
     "shell.execute_reply": "2022-04-08T07:23:42.247140Z",
     "shell.execute_reply.started": "2022-04-08T07:20:46.761530Z"
    },
    "papermill": {
     "duration": 0.055135,
     "end_time": "2022-04-08T07:23:42.247887",
     "exception": false,
     "start_time": "2022-04-08T07:23:42.192752",
     "status": "completed"
    },
    "tags": []
   },
   "outputs": [
    {
     "name": "stdout",
     "output_type": "stream",
     "text": [
      "Accuracy Score: 0.776536312849162\n"
     ]
    }
   ],
   "source": [
    "from sklearn.naive_bayes import GaussianNB\n",
    "gnb = GaussianNB()\n",
    "gnb.fit(X_train, y_train)\n",
    "y_pred = gnb.predict(X_test)\n",
    "print('Accuracy Score:', metrics.accuracy_score(y_test,y_pred))"
   ]
  },
  {
   "cell_type": "code",
   "execution_count": 26,
   "id": "2f8cf5b2",
   "metadata": {
    "execution": {
     "iopub.execute_input": "2022-04-08T07:23:42.334530Z",
     "iopub.status.busy": "2022-04-08T07:23:42.333841Z",
     "iopub.status.idle": "2022-04-08T07:23:42.361495Z",
     "shell.execute_reply": "2022-04-08T07:23:42.361964Z",
     "shell.execute_reply.started": "2022-04-08T07:20:42.740550Z"
    },
    "papermill": {
     "duration": 0.074476,
     "end_time": "2022-04-08T07:23:42.362142",
     "exception": false,
     "start_time": "2022-04-08T07:23:42.287666",
     "status": "completed"
    },
    "tags": []
   },
   "outputs": [
    {
     "name": "stdout",
     "output_type": "stream",
     "text": [
      "Accuracy Score: 0.8212290502793296\n"
     ]
    }
   ],
   "source": [
    "from sklearn import svm\n",
    "sc_X = StandardScaler()\n",
    "clf_3 = svm.SVC()\n",
    "X_train = sc_X.fit_transform(X_train)\n",
    "X_test = sc_X.transform(X_test)\n",
    "clf_3.fit(X_train, y_train)\n",
    "y_pred = clf_3.predict(X_test)\n",
    "print('Accuracy Score:', metrics.accuracy_score(y_test,y_pred))"
   ]
  },
  {
   "cell_type": "code",
   "execution_count": 27,
   "id": "0723ca9c",
   "metadata": {
    "execution": {
     "iopub.execute_input": "2022-04-08T07:23:42.448917Z",
     "iopub.status.busy": "2022-04-08T07:23:42.448231Z",
     "iopub.status.idle": "2022-04-08T07:23:42.467868Z",
     "shell.execute_reply": "2022-04-08T07:23:42.467251Z",
     "shell.execute_reply.started": "2022-04-08T07:20:56.543125Z"
    },
    "papermill": {
     "duration": 0.066171,
     "end_time": "2022-04-08T07:23:42.468022",
     "exception": false,
     "start_time": "2022-04-08T07:23:42.401851",
     "status": "completed"
    },
    "tags": []
   },
   "outputs": [],
   "source": [
    "test_predict=clf_2.predict(test)"
   ]
  },
  {
   "cell_type": "code",
   "execution_count": 28,
   "id": "018ed438",
   "metadata": {
    "execution": {
     "iopub.execute_input": "2022-04-08T07:23:42.551952Z",
     "iopub.status.busy": "2022-04-08T07:23:42.551289Z",
     "iopub.status.idle": "2022-04-08T07:23:42.552908Z",
     "shell.execute_reply": "2022-04-08T07:23:42.553401Z",
     "shell.execute_reply.started": "2022-04-08T07:21:29.526541Z"
    },
    "papermill": {
     "duration": 0.045959,
     "end_time": "2022-04-08T07:23:42.553562",
     "exception": false,
     "start_time": "2022-04-08T07:23:42.507603",
     "status": "completed"
    },
    "tags": []
   },
   "outputs": [],
   "source": [
    "submission['Survived']=test_predict"
   ]
  },
  {
   "cell_type": "code",
   "execution_count": 29,
   "id": "9965a818",
   "metadata": {
    "execution": {
     "iopub.execute_input": "2022-04-08T07:23:42.636515Z",
     "iopub.status.busy": "2022-04-08T07:23:42.635575Z",
     "iopub.status.idle": "2022-04-08T07:23:42.646122Z",
     "shell.execute_reply": "2022-04-08T07:23:42.645622Z",
     "shell.execute_reply.started": "2022-04-08T07:21:50.174603Z"
    },
    "papermill": {
     "duration": 0.053367,
     "end_time": "2022-04-08T07:23:42.646259",
     "exception": false,
     "start_time": "2022-04-08T07:23:42.592892",
     "status": "completed"
    },
    "tags": []
   },
   "outputs": [
    {
     "data": {
      "text/html": [
       "<div>\n",
       "<style scoped>\n",
       "    .dataframe tbody tr th:only-of-type {\n",
       "        vertical-align: middle;\n",
       "    }\n",
       "\n",
       "    .dataframe tbody tr th {\n",
       "        vertical-align: top;\n",
       "    }\n",
       "\n",
       "    .dataframe thead th {\n",
       "        text-align: right;\n",
       "    }\n",
       "</style>\n",
       "<table border=\"1\" class=\"dataframe\">\n",
       "  <thead>\n",
       "    <tr style=\"text-align: right;\">\n",
       "      <th></th>\n",
       "      <th>PassengerId</th>\n",
       "      <th>Survived</th>\n",
       "    </tr>\n",
       "  </thead>\n",
       "  <tbody>\n",
       "    <tr>\n",
       "      <th>0</th>\n",
       "      <td>892</td>\n",
       "      <td>0</td>\n",
       "    </tr>\n",
       "    <tr>\n",
       "      <th>1</th>\n",
       "      <td>893</td>\n",
       "      <td>0</td>\n",
       "    </tr>\n",
       "    <tr>\n",
       "      <th>2</th>\n",
       "      <td>894</td>\n",
       "      <td>0</td>\n",
       "    </tr>\n",
       "    <tr>\n",
       "      <th>3</th>\n",
       "      <td>895</td>\n",
       "      <td>0</td>\n",
       "    </tr>\n",
       "    <tr>\n",
       "      <th>4</th>\n",
       "      <td>896</td>\n",
       "      <td>1</td>\n",
       "    </tr>\n",
       "    <tr>\n",
       "      <th>...</th>\n",
       "      <td>...</td>\n",
       "      <td>...</td>\n",
       "    </tr>\n",
       "    <tr>\n",
       "      <th>413</th>\n",
       "      <td>1305</td>\n",
       "      <td>0</td>\n",
       "    </tr>\n",
       "    <tr>\n",
       "      <th>414</th>\n",
       "      <td>1306</td>\n",
       "      <td>1</td>\n",
       "    </tr>\n",
       "    <tr>\n",
       "      <th>415</th>\n",
       "      <td>1307</td>\n",
       "      <td>0</td>\n",
       "    </tr>\n",
       "    <tr>\n",
       "      <th>416</th>\n",
       "      <td>1308</td>\n",
       "      <td>0</td>\n",
       "    </tr>\n",
       "    <tr>\n",
       "      <th>417</th>\n",
       "      <td>1309</td>\n",
       "      <td>0</td>\n",
       "    </tr>\n",
       "  </tbody>\n",
       "</table>\n",
       "<p>418 rows × 2 columns</p>\n",
       "</div>"
      ],
      "text/plain": [
       "     PassengerId  Survived\n",
       "0            892         0\n",
       "1            893         0\n",
       "2            894         0\n",
       "3            895         0\n",
       "4            896         1\n",
       "..           ...       ...\n",
       "413         1305         0\n",
       "414         1306         1\n",
       "415         1307         0\n",
       "416         1308         0\n",
       "417         1309         0\n",
       "\n",
       "[418 rows x 2 columns]"
      ]
     },
     "execution_count": 29,
     "metadata": {},
     "output_type": "execute_result"
    }
   ],
   "source": [
    "submission"
   ]
  },
  {
   "cell_type": "code",
   "execution_count": 30,
   "id": "333f7bcf",
   "metadata": {
    "execution": {
     "iopub.execute_input": "2022-04-08T07:23:42.730627Z",
     "iopub.status.busy": "2022-04-08T07:23:42.729672Z",
     "iopub.status.idle": "2022-04-08T07:23:42.736842Z",
     "shell.execute_reply": "2022-04-08T07:23:42.737277Z",
     "shell.execute_reply.started": "2022-04-08T07:23:08.489839Z"
    },
    "papermill": {
     "duration": 0.050776,
     "end_time": "2022-04-08T07:23:42.737477",
     "exception": false,
     "start_time": "2022-04-08T07:23:42.686701",
     "status": "completed"
    },
    "tags": []
   },
   "outputs": [],
   "source": [
    "submission.to_csv('submission.csv', index=False)"
   ]
  },
  {
   "cell_type": "code",
   "execution_count": null,
   "id": "8fbb10c0",
   "metadata": {
    "papermill": {
     "duration": 0.040363,
     "end_time": "2022-04-08T07:23:42.818112",
     "exception": false,
     "start_time": "2022-04-08T07:23:42.777749",
     "status": "completed"
    },
    "tags": []
   },
   "outputs": [],
   "source": []
  }
 ],
 "metadata": {
  "kernelspec": {
   "display_name": "Python 3",
   "language": "python",
   "name": "python3"
  },
  "language_info": {
   "codemirror_mode": {
    "name": "ipython",
    "version": 3
   },
   "file_extension": ".py",
   "mimetype": "text/x-python",
   "name": "python",
   "nbconvert_exporter": "python",
   "pygments_lexer": "ipython3",
   "version": "3.7.12"
  },
  "papermill": {
   "default_parameters": {},
   "duration": 14.197221,
   "end_time": "2022-04-08T07:23:43.568812",
   "environment_variables": {},
   "exception": null,
   "input_path": "__notebook__.ipynb",
   "output_path": "__notebook__.ipynb",
   "parameters": {},
   "start_time": "2022-04-08T07:23:29.371591",
   "version": "2.3.3"
  }
 },
 "nbformat": 4,
 "nbformat_minor": 5
}
